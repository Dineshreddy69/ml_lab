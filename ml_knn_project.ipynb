{
  "nbformat": 4,
  "nbformat_minor": 0,
  "metadata": {
    "colab": {
      "provenance": []
    },
    "kernelspec": {
      "name": "python3",
      "display_name": "Python 3"
    },
    "language_info": {
      "name": "python"
    }
  },
  "cells": [
    {
      "cell_type": "code",
      "execution_count": 2,
      "metadata": {
        "id": "wB1iSzsBk4cQ",
        "colab": {
          "base_uri": "https://localhost:8080/"
        },
        "outputId": "f9b06441-e392-4d55-808a-4e876bd38711"
      },
      "outputs": [
        {
          "output_type": "stream",
          "name": "stdout",
          "text": [
            "Interclass distance: 3.8368750989877363\n",
            "Intraclass spread for class 0: 0.5897061675676838\n",
            "Intraclass spread for class 1: 1.002241082527964\n"
          ]
        }
      ],
      "source": [
        "#A1\n",
        "import pandas as pd\n",
        "import numpy as np\n",
        "from sklearn.preprocessing import StandardScaler\n",
        "\n",
        "# Load dataset using pandas\n",
        "df = pd.read_csv('/content/Parkinsson disease.csv')\n",
        "\n",
        "# Separating features (X) and labels (y)\n",
        "X = df.drop(columns=['name', 'status'])\n",
        "y = df['status']\n",
        "\n",
        "# Selecting only numeric columns for scaling \n",
        "numeric_cols = X.select_dtypes(include=[np.number]).columns\n",
        "X_numeric = X[numeric_cols]\n",
        "\n",
        "scaler = StandardScaler()\n",
        "X_scaled = scaler.fit_transform(X_numeric)\n",
        "\n",
        "# Calculation of  mean and standard deviation for each class\n",
        "class_0_mean_custom = np.mean(X_scaled[y == 0], axis=0)\n",
        "class_0_std_custom = np.std(X_scaled[y == 0], axis=0)\n",
        "class_1_mean_custom = np.mean(X_scaled[y == 1], axis=0)\n",
        "class_1_std_custom = np.std(X_scaled[y == 1], axis=0)\n",
        "\n",
        "# Calculation of interclass distance\n",
        "interclass_distance_custom = np.linalg.norm(class_0_mean_custom - class_1_mean_custom)\n",
        "print(f\"Interclass distance: {interclass_distance_custom}\")\n",
        "\n",
        "# Calculation of  intraclass spread\n",
        "intraclass_spread_0_custom = np.mean(class_0_std_custom)\n",
        "intraclass_spread_1_custom = np.mean(class_1_std_custom)\n",
        "print(f\"Intraclass spread for class 0: {intraclass_spread_0_custom}\")\n",
        "print(f\"Intraclass spread for class 1: {intraclass_spread_1_custom}\")\n"
      ]
    },
    {
      "cell_type": "code",
      "source": [
        "#A2\n",
        "import pandas as pd\n",
        "import numpy as np\n",
        "import matplotlib.pyplot as plt\n",
        "\n",
        "# Loading dataset using pandas\n",
        "df_custom = pd.read_csv('/content/Parkinsson disease.csv')\n",
        "\n",
        "# Select the 'PPE' feature\n",
        "ppe_feature_custom = df_custom['PPE']\n",
        "\n",
        "# Calculation of histogram data\n",
        "hist_custom, bins_custom = np.histogram(ppe_feature_custom, bins=10)  # we can adjust the number of bins as how many we need\n",
        "\n",
        "# Calculation for mean and variance\n",
        "mean_custom = np.mean(ppe_feature_custom)\n",
        "variance_custom = np.var(ppe_feature_custom)\n",
        "\n",
        "# Plot histogram\n",
        "plt.figure(figsize=(10, 6))\n",
        "plt.hist(ppe_feature_custom, bins=10, color='skyblue', edgecolor='black')\n",
        "plt.xlabel('PPE')\n",
        "plt.ylabel('Frequency')\n",
        "plt.title('Histogram of PPE Feature')\n",
        "plt.grid(axis='y', alpha=0.75)\n",
        "plt.show()\n",
        "\n",
        "print(f\"Mean: {mean_custom}\")\n",
        "print(f\"Variance: {variance_custom}\")\n"
      ],
      "metadata": {
        "id": "Ap12PQ6QlAL4",
        "colab": {
          "base_uri": "https://localhost:8080/",
          "height": 599
        },
        "outputId": "14728486-221b-4e6b-da80-189193d90617"
      },
      "execution_count": 3,
      "outputs": [
        {
          "output_type": "display_data",
          "data": {
            "text/plain": [
              "<Figure size 1000x600 with 1 Axes>"
            ],
            "image/png": "[encoded data removed]"
          },
          "metadata": {}
        },
        {
          "output_type": "stream",
          "name": "stdout",
          "text": [
            "Mean: 0.20655164102564103\n",
            "Variance: 0.008079843606281393\n"
          ]
        }
      ]
    },
    {
      "cell_type": "code",
      "source": [
        "#A3\n",
        "import pandas as pd\n",
        "import numpy as np\n",
        "import matplotlib.pyplot as plt\n",
        "\n",
        "df_custom = pd.read_csv('/content/Parkinsson disease.csv')\n",
        "\n",
        "# Selecting the 'DFA' and 'RPDE' features for patten matching\n",
        "dfa_feature_custom = df_custom['DFA']\n",
        "rpde_feature_custom = df_custom['RPDE']\n",
        "\n",
        "# Calculate Minkowski distance for r from 1 to 10\n",
        "r_values_custom = range(1, 11)\n",
        "distances_custom = []\n",
        "for r_custom in r_values_custom:\n",
        "    distance_custom = np.linalg.norm(dfa_feature_custom - rpde_feature_custom, ord=r_custom)\n",
        "    distances_custom.append(distance_custom)\n",
        "\n",
        "# Plot the distance graph\n",
        "plt.figure(figsize=(10, 6))\n",
        "plt.plot(r_values_custom, distances_custom, marker='o')\n",
        "plt.xlabel('r')\n",
        "plt.ylabel('Minkowski Distance')\n",
        "plt.title('Minkowski Distance between DFA and RPDE')\n",
        "plt.grid(True)\n",
        "plt.show()\n",
        "\n"
      ],
      "metadata": {
        "id": "dXijaEinlIa8",
        "colab": {
          "base_uri": "https://localhost:8080/",
          "height": 564
        },
        "outputId": "43ee68df-2bfe-4a36-ef8f-30806bb1f1e8"
      },
      "execution_count": 4,
      "outputs": [
        {
          "output_type": "display_data",
          "data": {
            "text/plain": [
              "<Figure size 1000x600 with 1 Axes>"
            ],
            "image/png": "[encoded data removed]"
          },
          "metadata": {}
        }
      ]
    },
    {
      "cell_type": "code",
      "source": [
        "#A4\n",
        "import pandas as pd\n",
        "from sklearn.model_selection import train_test_split\n",
        "\n",
        "# Load dataset using pandas\n",
        "df_custom = pd.read_csv('/content/Parkinsson disease.csv')\n",
        "\n",
        "# Select the 'PPE' and 'DFA' features and class labels\n",
        "X_custom = df_custom[['PPE', 'DFA']]\n",
        "y_custom = df_custom['status']\n",
        "\n",
        "# Divide the dataset into training and test sets\n",
        "X_train_custom, X_test_custom, y_train_custom, y_test_custom = train_test_split(X_custom, y_custom, test_size=0.3, random_state=42)\n",
        "\n",
        "# Print the shapes of the resulting sets\n",
        "print(f\"X_train_custom shape: {X_train_custom.shape}, y_train_custom shape: {y_train_custom.shape}\")\n",
        "print(f\"X_test_custom shape: {X_test_custom.shape}, y_test_custom shape: {y_test_custom.shape}\")\n",
        "\n"
      ],
      "metadata": {
        "id": "bIS1Qt6ZlRu1",
        "colab": {
          "base_uri": "https://localhost:8080/"
        },
        "outputId": "776700b9-0f69-4408-fbf6-21011965fa43"
      },
      "execution_count": 5,
      "outputs": [
        {
          "output_type": "stream",
          "name": "stdout",
          "text": [
            "X_train_custom shape: (136, 2), y_train_custom shape: (136,)\n",
            "X_test_custom shape: (59, 2), y_test_custom shape: (59,)\n"
          ]
        }
      ]
    },
    {
      "cell_type": "code",
      "source": [
        "#A5\n",
        "import pandas as pd\n",
        "from sklearn.model_selection import train_test_split\n",
        "\n",
        "# Load dataset using pandas\n",
        "df_custom = pd.read_csv('/content/Parkinsson disease.csv')\n",
        "\n",
        "# Select the 'PPE' and 'DFA' features and class labels\n",
        "X_custom = df_custom[['PPE', 'DFA']]\n",
        "y_custom = df_custom['status']\n",
        "\n",
        "# Divide the dataset into training and test sets\n",
        "X_train_custom, X_test_custom, y_train_custom, y_test_custom = train_test_split(X_custom, y_custom, test_size=0.3, random_state=42)\n",
        "\n",
        "# Print the shapes of the resulting sets\n",
        "print(f\"X_train_custom shape: {X_train_custom.shape}, y_train_custom shape: {y_train_custom.shape}\")\n",
        "print(f\"X_test_custom shape: {X_test_custom.shape}, y_test_custom shape: {y_test_custom.shape}\")\n",
        "\n",
        "from sklearn.neighbors import KNeighborsClassifier\n",
        "\n",
        "# Create kNN classifier with k=3\n",
        "knn_custom = KNeighborsClassifier(n_neighbors=3)\n",
        "\n",
        "# Train the classifier on the training set\n",
        "knn_custom.fit(X_train_custom, y_train_custom)\n",
        "\n",
        "# Print a confirmation message\n",
        "print(\"kNN classifier trained successfully with k=3.\")\n"
      ],
      "metadata": {
        "id": "Jd7SKHg1lYBq",
        "colab": {
          "base_uri": "https://localhost:8080/"
        },
        "outputId": "5705108b-83d8-4c58-fb7f-bd8ec6cb12ff"
      },
      "execution_count": 6,
      "outputs": [
        {
          "output_type": "stream",
          "name": "stdout",
          "text": [
            "X_train_custom shape: (136, 2), y_train_custom shape: (136,)\n",
            "X_test_custom shape: (59, 2), y_test_custom shape: (59,)\n",
            "kNN classifier trained successfully with k=3.\n"
          ]
        }
      ]
    },
    {
      "cell_type": "code",
      "source": [
        "#A6\n",
        "import pandas as pd\n",
        "from sklearn.model_selection import train_test_split\n",
        "\n",
        "# Load dataset using pandas\n",
        "df_custom = pd.read_csv('/content/Parkinsson disease.csv')\n",
        "\n",
        "# Select the 'PPE' and 'DFA' features and class labels\n",
        "X_custom = df_custom[['PPE', 'DFA']]\n",
        "y_custom = df_custom['status']\n",
        "\n",
        "# Divide the dataset into training and test sets\n",
        "X_train_custom, X_test_custom, y_train_custom, y_test_custom = train_test_split(X_custom, y_custom, test_size=0.3, random_state=42)\n",
        "\n",
        "# Print the shapes of the resulting sets\n",
        "print(f\"X_train_custom shape: {X_train_custom.shape}, y_train_custom shape: {y_train_custom.shape}\")\n",
        "print(f\"X_test_custom shape: {X_test_custom.shape}, y_test_custom shape: {y_test_custom.shape}\")\n",
        "\n",
        "from sklearn.neighbors import KNeighborsClassifier\n",
        "\n",
        "# Create kNN classifier with k=3\n",
        "knn_custom = KNeighborsClassifier(n_neighbors=3)\n",
        "\n",
        "# Train the classifier on the training set\n",
        "knn_custom.fit(X_train_custom, y_train_custom)\n",
        "\n",
        "# Print a confirmation message\n",
        "print(\"kNN classifier trained successfully with k=3.\")\n",
        "\n",
        "accuracy_custom = knn_custom.score(X_test_custom, y_test_custom)\n",
        "\n",
        "# Print the accuracy report\n",
        "print(f\"Accuracy of the kNN classifier on the test set: {accuracy_custom:.2f}\")\n"
      ],
      "metadata": {
        "id": "P4tNsp7TleSY",
        "colab": {
          "base_uri": "https://localhost:8080/"
        },
        "outputId": "d81768f7-30fd-4e2d-b679-366165e493a8"
      },
      "execution_count": 7,
      "outputs": [
        {
          "output_type": "stream",
          "name": "stdout",
          "text": [
            "X_train_custom shape: (136, 2), y_train_custom shape: (136,)\n",
            "X_test_custom shape: (59, 2), y_test_custom shape: (59,)\n",
            "kNN classifier trained successfully with k=3.\n",
            "Accuracy of the kNN classifier on the test set: 0.92\n"
          ]
        }
      ]
    },
    {
      "cell_type": "code",
      "source": [
        "#A7\n",
        "import pandas as pd\n",
        "from sklearn.model_selection import train_test_split\n",
        "\n",
        "# Load dataset using pandas\n",
        "df_custom = pd.read_csv('/content/Parkinsson disease.csv')\n",
        "\n",
        "# Select the 'PPE' and 'DFA' features and class labels\n",
        "X_custom = df_custom[['PPE', 'DFA']]\n",
        "y_custom = df_custom['status']\n",
        "\n",
        "# Divide the dataset into training and test sets\n",
        "X_train_custom, X_test_custom, y_train_custom, y_test_custom = train_test_split(X_custom, y_custom, test_size=0.3, random_state=42)\n",
        "\n",
        "# Print the shapes of the resulting sets\n",
        "print(f\"X_train_custom shape: {X_train_custom.shape}, y_train_custom shape: {y_train_custom.shape}\")\n",
        "print(f\"X_test_custom shape: {X_test_custom.shape}, y_test_custom shape: {y_test_custom.shape}\")\n",
        "\n",
        "from sklearn.neighbors import KNeighborsClassifier\n",
        "\n",
        "# Create kNN classifier with k=3\n",
        "knn_custom = KNeighborsClassifier(n_neighbors=3)\n",
        "\n",
        "# Train the classifier on the training set\n",
        "knn_custom.fit(X_train_custom, y_train_custom)\n",
        "\n",
        "# Print a confirmation message\n",
        "print(\"kNN classifier trained successfully with k=3.\")\n",
        "\n",
        "accuracy_custom = knn_custom.score(X_test_custom, y_test_custom)\n",
        "\n",
        "# Print the accuracy report\n",
        "print(f\"Accuracy of the kNN classifier on the test set: {accuracy_custom:.2f}\")\n",
        "\n",
        "# Perform classification for a given vector\n",
        "test_vector_index_custom = 0  # Choose any index of a feature vector from the test set\n",
        "test_vector_custom = X_test_custom.iloc[test_vector_index_custom].values.reshape(1, -1)\n",
        "predicted_class_custom = knn_custom.predict(test_vector_custom)\n",
        "\n",
        "print(f\"Actual class: {y_test_custom.iloc[test_vector_index_custom]}, Predicted class: {predicted_class_custom[0]}\")\n"
      ],
      "metadata": {
        "id": "52mNI8l3lj1C",
        "colab": {
          "base_uri": "https://localhost:8080/"
        },
        "outputId": "528dae1f-da64-4922-cde4-c2a708f7ff6c"
      },
      "execution_count": 8,
      "outputs": [
        {
          "output_type": "stream",
          "name": "stdout",
          "text": [
            "X_train_custom shape: (136, 2), y_train_custom shape: (136,)\n",
            "X_test_custom shape: (59, 2), y_test_custom shape: (59,)\n",
            "kNN classifier trained successfully with k=3.\n",
            "Accuracy of the kNN classifier on the test set: 0.92\n",
            "Actual class: 1, Predicted class: 1\n"
          ]
        },
        {
          "output_type": "stream",
          "name": "stderr",
          "text": [
            "/usr/local/lib/python3.10/dist-packages/sklearn/base.py:439: UserWarning: X does not have valid feature names, but KNeighborsClassifier was fitted with feature names\n",
            "  warnings.warn(\n"
          ]
        }
      ]
    },
    {
      "cell_type": "code",
      "source": [
        "#A8\n",
        "from sklearn.neighbors import KNeighborsClassifier\n",
        "from sklearn.metrics import accuracy_score\n",
        "import matplotlib.pyplot as plt\n",
        "import pandas as pd\n",
        "from sklearn.model_selection import train_test_split\n",
        "\n",
        "# Load dataset using pandas\n",
        "df_custom = pd.read_csv('/content/Parkinsson disease.csv')\n",
        "\n",
        "# Select the 'PPE' and 'DFA' features and class labels\n",
        "X_custom = df_custom[['PPE', 'DFA']]\n",
        "y_custom = df_custom['status']\n",
        "\n",
        "# Divide the dataset into training and test sets\n",
        "X_train_custom, X_test_custom, y_train_custom, y_test_custom = train_test_split(X_custom, y_custom, test_size=0.3, random_state=42)\n",
        "\n",
        "# Print the shapes of the resulting sets\n",
        "print(f\"X_train_custom shape: {X_train_custom.shape}, y_train_custom shape: {y_train_custom.shape}\")\n",
        "print(f\"X_test_custom shape: {X_test_custom.shape}, y_test_custom shape: {y_test_custom.shape}\")\n",
        "\n",
        "# Initialize lists to store accuracy values\n",
        "accuracy_knn_custom = []\n",
        "accuracy_nn_custom = []\n",
        "\n",
        "# Vary k from 1 to 11\n",
        "for k_custom in range(1, 12):\n",
        "    # Train kNN classifier with k=3\n",
        "    knn_custom = KNeighborsClassifier(n_neighbors=3)\n",
        "    knn_custom.fit(X_train_custom, y_train_custom)\n",
        "\n",
        "    # Train NN classifier with k=1\n",
        "    nn_custom = KNeighborsClassifier(n_neighbors=1)\n",
        "    nn_custom.fit(X_train_custom, y_train_custom)\n",
        "\n",
        "    # Predict on test set and calculate accuracy\n",
        "    y_pred_knn_custom = knn_custom.predict(X_test_custom)\n",
        "    accuracy_knn_custom.append(accuracy_score(y_test_custom, y_pred_knn_custom))\n",
        "\n",
        "    y_pred_nn_custom = nn_custom.predict(X_test_custom)\n",
        "    accuracy_nn_custom.append(accuracy_score(y_test_custom, y_pred_nn_custom))\n",
        "\n",
        "# Plot the accuracy values\n",
        "plt.figure(figsize=(10, 6))\n",
        "plt.plot(range(1, 12), accuracy_knn_custom, label='kNN (k=3)', marker='o')\n",
        "plt.plot(range(1, 12), accuracy_nn_custom, label='NN (k=1)', marker='x')\n",
        "plt.xlabel('k_custom')\n",
        "plt.ylabel('Accuracy_custom')\n",
        "plt.title('Accuracy Comparison between kNN and NN')\n",
        "plt.xticks(range(1, 12))\n",
        "plt.legend()\n",
        "plt.grid(True)\n",
        "plt.show()\n"
      ],
      "metadata": {
        "id": "MOFUeXuglqyA",
        "colab": {
          "base_uri": "https://localhost:8080/",
          "height": 599
        },
        "outputId": "fe15f0f8-4e60-42cb-ffc9-7ca535a4617d"
      },
      "execution_count": 9,
      "outputs": [
        {
          "output_type": "stream",
          "name": "stdout",
          "text": [
            "X_train_custom shape: (136, 2), y_train_custom shape: (136,)\n",
            "X_test_custom shape: (59, 2), y_test_custom shape: (59,)\n"
          ]
        },
        {
          "output_type": "display_data",
          "data": {
            "text/plain": [
              "<Figure size 1000x600 with 1 Axes>"
            ],
            "image/png": "[encoded data removed]"
          },
          "metadata": {}
        }
      ]
    },
    {
      "cell_type": "code",
      "source": [
        "#A9\n",
        "from sklearn.neighbors import KNeighborsClassifier\n",
        "from sklearn.metrics import accuracy_score, confusion_matrix, precision_score, recall_score, f1_score\n",
        "import matplotlib.pyplot as plt\n",
        "import pandas as pd\n",
        "from sklearn.model_selection import train_test_split\n",
        "\n",
        "# Load dataset using pandas\n",
        "df_custom = pd.read_csv('/content/Parkinsson disease.csv')\n",
        "\n",
        "# Select the 'PPE' and 'DFA' features and class labels\n",
        "X_custom = df_custom[['PPE', 'DFA']]\n",
        "y_custom = df_custom['status']\n",
        "\n",
        "# Divide the dataset into training and test sets\n",
        "X_train_custom, X_test_custom, y_train_custom, y_test_custom = train_test_split(X_custom, y_custom, test_size=0.3, random_state=42)\n",
        "\n",
        "# Initialize kNN classifier with k=3\n",
        "knn_custom = KNeighborsClassifier(n_neighbors=3)\n",
        "\n",
        "# Train the kNN classifier\n",
        "knn_custom.fit(X_train_custom, y_train_custom)\n",
        "\n",
        "# Predict classes for training and test sets\n",
        "y_pred_train_custom = knn_custom.predict(X_train_custom)\n",
        "y_pred_test_custom = knn_custom.predict(X_test_custom)\n",
        "\n",
        "# Compute confusion matrix\n",
        "conf_matrix_train_custom = confusion_matrix(y_train_custom, y_pred_train_custom)\n",
        "conf_matrix_test_custom = confusion_matrix(y_test_custom, y_pred_test_custom)\n",
        "\n",
        "# Compute precision, recall, and F1-Score for training and test sets\n",
        "precision_train_custom = precision_score(y_train_custom, y_pred_train_custom)\n",
        "precision_test_custom = precision_score(y_test_custom, y_pred_test_custom)\n",
        "\n",
        "recall_train_custom = recall_score(y_train_custom, y_pred_train_custom)\n",
        "recall_test_custom = recall_score(y_test_custom, y_pred_test_custom)\n",
        "\n",
        "f1_score_train_custom = f1_score(y_train_custom, y_pred_train_custom)\n",
        "f1_score_test_custom = f1_score(y_test_custom, y_pred_test_custom)\n",
        "\n",
        "# Print confusion matrices and performance metrics\n",
        "print(\"Confusion Matrix for Training Data:\")\n",
        "print(conf_matrix_train_custom)\n",
        "print(\"\\nConfusion Matrix for Test Data:\")\n",
        "print(conf_matrix_test_custom)\n",
        "\n",
        "print(\"\\nPerformance Metrics for Training Data:\")\n",
        "print(f\"Precision: {precision_train_custom:.2f}, Recall: {recall_train_custom:.2f}, F1-Score: {f1_score_train_custom:.2f}\")\n",
        "\n",
        "print(\"\\nPerformance Metrics for Test Data:\")\n",
        "print(f\"Precision: {precision_test_custom:.2f}, Recall: {recall_test_custom:.2f}, F1-Score: {f1_score_test_custom:.2f}\")\n",
        "\n",
        "# Infer the model's learning outcome\n",
        "if precision_train_custom == precision_test_custom and recall_train_custom == recall_test_custom:\n",
        "    print(\"\\nThe model is regular fit.\")\n",
        "elif precision_train_custom < precision_test_custom and recall_train_custom < recall_test_custom:\n",
        "    print(\"\\nThe model is overfit.\")\n",
        "else:\n",
        "    print(\"\\nThe model is underfit.\")\n"
      ],
      "metadata": {
        "id": "GXJCejsIlw8a",
        "colab": {
          "base_uri": "https://localhost:8080/"
        },
        "outputId": "52eb5591-826c-4def-a94b-0c0f840b9329"
      },
      "execution_count": 10,
      "outputs": [
        {
          "output_type": "stream",
          "name": "stdout",
          "text": [
            "Confusion Matrix for Training Data:\n",
            "[[25  8]\n",
            " [ 8 95]]\n",
            "\n",
            "Confusion Matrix for Test Data:\n",
            "[[11  4]\n",
            " [ 1 43]]\n",
            "\n",
            "Performance Metrics for Training Data:\n",
            "Precision: 0.92, Recall: 0.92, F1-Score: 0.92\n",
            "\n",
            "Performance Metrics for Test Data:\n",
            "Precision: 0.91, Recall: 0.98, F1-Score: 0.95\n",
            "\n",
            "The model is underfit.\n"
          ]
        }
      ]
    },
    {
      "cell_type": "code",
      "source": [
        "from google.colab import drive\n",
        "drive.mount('/content/drive')"
      ],
      "metadata": {
        "id": "ScUqUXTTqBet"
      },
      "execution_count": null,
      "outputs": []
    }
  ]
}
